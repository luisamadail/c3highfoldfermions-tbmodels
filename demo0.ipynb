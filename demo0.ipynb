{
 "cells": [
  {
   "cell_type": "markdown",
   "id": "afdab3e9",
   "metadata": {},
   "source": [
    "#### (temporary demo version, orbital response functions still private)"
   ]
  },
  {
   "cell_type": "markdown",
   "id": "21bb6fbd",
   "metadata": {},
   "source": [
    "# Tight-binding calculations for C₃ high-fold fermions in honeycomb lattices\n",
    "\n",
    "\n",
    "<br>\n",
    "<div style=\"text-align: justify\">\n",
    "<strong>This notebook demontrates how to use the \"c3highfoldfermions_tbmodels\" repository to construct, visualize, and analyze multi-orbital tight-binding models on honeycomb lattices featuring orbitals that transform under the $C_3 $ group. For the preparation of the orbital states we employ a full tight-binding hamiltonian for triangular nanographenes of arbitrary dimension (na,nb) and recover the zero mode solutions on the low-energy regime as our basis set for the reduced Hamiltonian. The number of orbitals in the multi-orbital reduced model (na+nb-2) depends on the dimension of the [na,nb]triangulene, for the ones studied in the papers: [2,2]T - 2 orbitals per unit cell; [2,3]T - 3 orbitals per unit cell; [3,3]T - 4 orbitals per unit cell; [4,4]T - 6 orbitals per unit cell.</strong>\n",
    "</div>\n",
    "<br>\n",
    "\n",
    "\n",
    "<div style=\"text-align: justify\">\n",
    "<strong>\n",
    "In this notebook the user can find comparisons between the full and reduced bandstructures, edge properties in zigzag and armchair nanoribbon, application of external electric and magnetic fields as well as orbital Zeeman and sublattice perturbations. This demo shows all the specific functions available for print and plot as well as the required input parameters to be specified by the user. </strong>\n",
    "</div> \n",
    "<br>\n",
    "<strong>  \n",
    "    \n",
    "The repository contains python code used to produce the results of the following papers/preprints:   \n",
    " `> Exotic edge states of C3 high-fold fermions in honeycomb lattices` [DOI:10.1103/PhysRevResearch.6.043262]  \n",
    " `> Landau level structure of multi-orbital C3 high-fold fermionss` [DOI:preprint]  \n",
    "    \n",
    "Local files include:   \n",
    " `> auxC3.py`: auxiliary definitions for Hamiltonian construction;  \n",
    " `> htest.py`: core Hamiltonians: 2D, full and reduced models;  \n",
    " `> plotbs.py`: plot definitions for bandstructure and states;   \n",
    " `> plotorb2D.py`: orbital analysis for 2D Hamiltonians;   </strong>\n",
    " \n"
   ]
  },
  {
   "cell_type": "markdown",
   "id": "041bfced",
   "metadata": {},
   "source": [
    "## 1. Local import from repository:"
   ]
  },
  {
   "cell_type": "code",
   "execution_count": null,
   "id": "e169678b",
   "metadata": {},
   "outputs": [],
   "source": [
    "from c3highfoldfermions_tbmodels import htest,auxc3,plotbs,plotorb2d,plotorbrib"
   ]
  },
  {
   "cell_type": "markdown",
   "id": "cecf0908",
   "metadata": {},
   "source": [
    "### 1.1 import dependencies and set plotting style (optional)"
   ]
  },
  {
   "cell_type": "code",
   "execution_count": null,
   "id": "3b7c7c4c",
   "metadata": {},
   "outputs": [],
   "source": [
    "import numpy as np\n",
    "import matplotlib.pyplot as plt\n",
    "from matplotlib.ticker import MaxNLocator\n",
    "from joblib import Parallel, delayed\n",
    "import sympy as sym\n",
    "from IPython.display import display\n",
    "import matplotlib.pyplot as plt\n",
    "\n",
    "#  Set plotting style:\n",
    "\n",
    "%config InlineBackend.figure_formats=['svg']\n",
    "plt.rcParams['xtick.labelsize']=12\n",
    "plt.rcParams['ytick.labelsize']=12\n",
    "plt.rcParams['axes.labelsize'] = 12\n",
    "plt.rcParams['axes.titlesize'] = 12\n",
    "plt.rcParams.update({'font.family': 'Arial'})"
   ]
  },
  {
   "cell_type": "markdown",
   "id": "d810b445",
   "metadata": {},
   "source": [
    "## 2. Define parameters for Hamiltonian construction\n",
    "`> [na,nb]triangulene dimension`   \n",
    "`> size of unit cell (number of dimers divisible by 2 for ribbons with 2 complete zigzag boundaries)`         \n",
    "`> k resolution`     \n",
    "`> magnetic/electric field`    \n",
    "`> orbital / sublattice splitting`    \n",
    "`> type of Hamiltonian: \n",
    "    > reduced 2D Hamiltonians: 'HTB_2D'\n",
    "    > zigzag ribbon full Hamiltonians: 'HTB_ZZribbon',\n",
    "    > armchair ribbon full Hamiltonians: 'HTB_ACribbon'\n",
    "    > zigzag ribbon reduced hamiltonians: 'HTB_reduced_ZZribbon'`   "
   ]
  },
  {
   "cell_type": "code",
   "execution_count": null,
   "id": "41158e8d",
   "metadata": {},
   "outputs": [],
   "source": [
    "#Trianguelene type:\n",
    "na=3\n",
    "nb=3\n",
    "\n",
    "#lattice parameter (in Angstrom):\n",
    "a=2.42\n",
    "\n",
    "# modulate hopping parameters: \n",
    "t1=1\n",
    "t2=0\n",
    "t3=0.1\n",
    "\n",
    "# number of dimer unit cells: \n",
    "dimercells=10\n",
    "\n",
    "# k resolution:\n",
    "kpoints=20\n",
    "\n",
    "# Magnetic field & electric field if applicable:\n",
    "Bfield=0#0.0001\n",
    "Efield=0#0.00001\n",
    "\n",
    "# orbital & sublattice splitting if applicable:\n",
    "orbpert_strength=0.002\n",
    "sublpert_strength=0#0.002\n",
    "\n",
    "#auxiliary matrix for reduced model calculation\n",
    "mataux=htest.auxin(na,nb,dimercells,Bfield)\n",
    "mataux1=htest.auxin(na,nb,4,Bfield)\n",
    "taumat=htest.taus(mataux1,na,nb,1,8,0,8)"
   ]
  },
  {
   "cell_type": "code",
   "execution_count": null,
   "id": "0cb9a825",
   "metadata": {},
   "outputs": [],
   "source": [
    "#define type of hamiltonian: 'HTB_2D','HTB_ZZribbon','HTB_ACribbon','HTB_reduced_ZZribbon'\n",
    "\n",
    "hamiltoniantype='HTB_reduced_ZZribbon'"
   ]
  },
  {
   "cell_type": "markdown",
   "id": "15cec3b5",
   "metadata": {},
   "source": [
    "## 3. Plot of bandstructure\n",
    " `> calls plotbs.py`\n",
    "### 3.1 Run this for 2D crystals \n",
    "`> hamiltoniantype = 'HTB_2D')`   \n",
    "`>` turn on orbital or sublattice splitting to see degeneracy lifts"
   ]
  },
  {
   "cell_type": "code",
   "execution_count": null,
   "id": "b10ccee1",
   "metadata": {},
   "outputs": [],
   "source": [
    "plotbs.plot_2D_bandstructure(na,nb,t1,t3,dimercells,hamiltoniantype,kpoints,orbpert_strength,sublpert_strength,Bfield,Efield)"
   ]
  },
  {
   "cell_type": "markdown",
   "id": "33e6d5ca",
   "metadata": {},
   "source": [
    "### 3.2 Run this for ribbons \n",
    "\n",
    "`> hamiltoniantype = 'HTB_reduced_ZZribbon', 'HTB_ZZribbon', 'HTB_ACribbon'`    \n",
    "`> low_energy = True` for only the low-energy sector in full models `('HTB_ZZribbon', 'HTB_ACribbon')`   \n",
    "`> low_energy = False` for full sector and always in reduced models `(HTB_reduced_ZZribbon)`   \n",
    "`>` turn on orbital or sublattice splitting to see degeneracy lift<br>\n",
    "`>` turn on out-of-plane magnetic field + larger unit cell `(dimercells)` to see Landau levels at K,K' and Anomalous Landau levels at $\\Gamma$-point   \n",
    "`>` turn on in-plane electric field (along the open direction) to see degeneracy lifts \n"
   ]
  },
  {
   "cell_type": "code",
   "execution_count": null,
   "id": "a458c6e0",
   "metadata": {},
   "outputs": [],
   "source": [
    "plotbs.plot_rib_bandstructure(na,nb,a,dimercells,kpoints,hamiltoniantype,t1,t3,orbpert_strength,sublpert_strength,Bfield,Efield,low_energy=False)"
   ]
  },
  {
   "cell_type": "markdown",
   "id": "6480e199",
   "metadata": {},
   "source": [
    "## 4. Plot of lattice structure \n",
    "`> calls plotbs.py`  \n",
    "`> only well-defined for full hamiltonians ('HTB_ZZribbon', 'HTB_ACribbon')` "
   ]
  },
  {
   "cell_type": "code",
   "execution_count": null,
   "id": "521397e8",
   "metadata": {},
   "outputs": [],
   "source": [
    "plotbs.plot_rib_lattice(na,nb,a,t1,t3,hamiltoniantype,dimercells,orbpert_strength,sublpert_strength,Bfield,Efield)"
   ]
  },
  {
   "cell_type": "markdown",
   "id": "10336a2f",
   "metadata": {},
   "source": [
    "## 5. Plot of wave distribution \n",
    "`> calls plotbs.py`   \n",
    "`> only well-defined for full ribbon hamiltonians ('HTB_ZZribbon', 'HTB_ACribbon')`    \n",
    "`> choose state: value for k (kindex) and band (bindex)`  \n",
    "`> default bindex: middle band` (zero energy **edge state** in [2,2], [3,3] and [4,4] triangulene ribbons)"
   ]
  },
  {
   "cell_type": "code",
   "execution_count": null,
   "id": "aae54e93",
   "metadata": {},
   "outputs": [],
   "source": [
    "#adjust accordingly:\n",
    "bindex=int(len(htest.h0hk(na,nb,a,dimercells,hamiltoniantype,t1,t3,orbpert_strength,sublpert_strength,Bfield,Efield,0,0))//2)\n",
    "kindex=0\n",
    "\n",
    "plotbs.plot_wave_lattice(na,nb,a,t1,t3,hamiltoniantype,dimercells,orbpert_strength,sublpert_strength,Bfield,Efield,kxval=kindex,index=bindex)"
   ]
  },
  {
   "cell_type": "markdown",
   "id": "27553938",
   "metadata": {},
   "source": [
    "## 6. Berry curvature and Chern number\n",
    " `> calls plotorb2d.py`\n",
    "\n",
    "#### 1. Berry curvature in the hexagonal BZ"
   ]
  },
  {
   "cell_type": "code",
   "execution_count": null,
   "id": "9c2138d6",
   "metadata": {},
   "outputs": [],
   "source": [
    "plotorb2d.plot_BerryC_BZ(na,nb,a,t1,t3,hamiltoniantype,dimercells,orbpert_strength,sublpert_strength,Bfield,Efield)"
   ]
  },
  {
   "cell_type": "markdown",
   "id": "131a48eb",
   "metadata": {},
   "source": [
    "#### 2. total Berry curvature along the line  $\\phi_1=\\phi_2$   "
   ]
  },
  {
   "cell_type": "code",
   "execution_count": null,
   "id": "b600318d",
   "metadata": {},
   "outputs": [],
   "source": [
    "plotorb2d.plot_BerryC_kresolved(na,nb,a,t1,t3,hamiltoniantype,dimercells,orbpert_strength,sublpert_strength,Bfield,Efield)"
   ]
  },
  {
   "cell_type": "markdown",
   "id": "ad078844",
   "metadata": {},
   "source": [
    "#### 3. band Chern number"
   ]
  },
  {
   "cell_type": "code",
   "execution_count": null,
   "id": "2f51edb0",
   "metadata": {},
   "outputs": [],
   "source": [
    "plotorb2d.print_ChernN_band(na,nb,a,t1,t3,hamiltoniantype,dimercells,orbpert_strength,sublpert_strength,Bfield,Efield)"
   ]
  },
  {
   "cell_type": "markdown",
   "id": "1570d832",
   "metadata": {},
   "source": [
    "#### 4. band resolved Berry curvature along the line $\\phi_1=\\phi_2$   "
   ]
  },
  {
   "cell_type": "code",
   "execution_count": null,
   "id": "bc347445",
   "metadata": {},
   "outputs": [],
   "source": [
    "plotorb2d.plot_BerryCband_kresolved(na,nb,a,t1,t3,hamiltoniantype,dimercells,orbpert_strength,sublpert_strength,Bfield,Efield)"
   ]
  },
  {
   "cell_type": "markdown",
   "id": "5b420144",
   "metadata": {},
   "source": [
    "## 7. Orbital response"
   ]
  }
 ],
 "metadata": {
  "kernelspec": {
   "display_name": "Python 3",
   "language": "python",
   "name": "python3"
  },
  "language_info": {
   "codemirror_mode": {
    "name": "ipython",
    "version": 3
   },
   "file_extension": ".py",
   "mimetype": "text/x-python",
   "name": "python",
   "nbconvert_exporter": "python",
   "pygments_lexer": "ipython3",
   "version": "3.8.8"
  }
 },
 "nbformat": 4,
 "nbformat_minor": 5
}
